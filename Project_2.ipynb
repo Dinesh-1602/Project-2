{
  "nbformat": 4,
  "nbformat_minor": 0,
  "metadata": {
    "colab": {
      "provenance": []
    },
    "kernelspec": {
      "name": "python3",
      "display_name": "Python 3"
    },
    "language_info": {
      "name": "python"
    }
  },
  "cells": [
    {
      "cell_type": "code",
      "source": [
        "!pip install pandas pyspark sqlalchemy openpyxl"
      ],
      "metadata": {
        "id": "4QqR0fntSz-j",
        "colab": {
          "base_uri": "https://localhost:8080/"
        },
        "outputId": "4ceb938d-bfd5-467a-f47b-4be4071a06de",
        "collapsed": true
      },
      "execution_count": null,
      "outputs": [
        {
          "output_type": "stream",
          "name": "stdout",
          "text": [
            "Requirement already satisfied: pandas in /usr/local/lib/python3.12/dist-packages (2.2.2)\n",
            "Requirement already satisfied: pyspark in /usr/local/lib/python3.12/dist-packages (3.5.1)\n",
            "Requirement already satisfied: sqlalchemy in /usr/local/lib/python3.12/dist-packages (2.0.43)\n",
            "Requirement already satisfied: openpyxl in /usr/local/lib/python3.12/dist-packages (3.1.5)\n",
            "Requirement already satisfied: numpy>=1.26.0 in /usr/local/lib/python3.12/dist-packages (from pandas) (2.0.2)\n",
            "Requirement already satisfied: python-dateutil>=2.8.2 in /usr/local/lib/python3.12/dist-packages (from pandas) (2.9.0.post0)\n",
            "Requirement already satisfied: pytz>=2020.1 in /usr/local/lib/python3.12/dist-packages (from pandas) (2025.2)\n",
            "Requirement already satisfied: tzdata>=2022.7 in /usr/local/lib/python3.12/dist-packages (from pandas) (2025.2)\n",
            "Requirement already satisfied: py4j==0.10.9.7 in /usr/local/lib/python3.12/dist-packages (from pyspark) (0.10.9.7)\n",
            "Requirement already satisfied: greenlet>=1 in /usr/local/lib/python3.12/dist-packages (from sqlalchemy) (3.2.4)\n",
            "Requirement already satisfied: typing-extensions>=4.6.0 in /usr/local/lib/python3.12/dist-packages (from sqlalchemy) (4.15.0)\n",
            "Requirement already satisfied: et-xmlfile in /usr/local/lib/python3.12/dist-packages (from openpyxl) (2.0.0)\n",
            "Requirement already satisfied: six>=1.5 in /usr/local/lib/python3.12/dist-packages (from python-dateutil>=2.8.2->pandas) (1.17.0)\n"
          ]
        }
      ]
    },
    {
      "cell_type": "code",
      "source": [
        "import pandas as pd\n",
        "from pyspark.sql import SparkSession\n",
        "from pyspark.sql.functions import col, lower, trim, regexp_replace, to_date, month"
      ],
      "metadata": {
        "id": "wSci6Uk5zCtF"
      },
      "execution_count": null,
      "outputs": []
    },
    {
      "cell_type": "code",
      "source": [
        "# Task 1: Data Extraction\n",
        "# Load dataset from Google Sheets as CSV\n",
        "sheet_url = \"https://docs.google.com/spreadsheets/d/1B2fF-9GKOk3HBb6I40kNnfbaNOaTeDJjhht-iDSz9r0/export?format=csv\"\n",
        "df = pd.read_csv(sheet_url)"
      ],
      "metadata": {
        "id": "rQpzoUFfE3V1"
      },
      "execution_count": null,
      "outputs": []
    },
    {
      "cell_type": "code",
      "source": [
        "# Convert Pandas DataFrame to Spark DataFrame\n",
        "spark = SparkSession.builder.appName(\"AmazonReviewETL\").getOrCreate()\n",
        "df_spark = spark.createDataFrame(df)"
      ],
      "metadata": {
        "id": "R5edIFwBFBBd"
      },
      "execution_count": null,
      "outputs": []
    },
    {
      "cell_type": "code",
      "source": [
        "# Task 2: Data Cleaning\n",
        "df_spark = df_spark.dropDuplicates()"
      ],
      "metadata": {
        "id": "5G0-pcURFEGb"
      },
      "execution_count": null,
      "outputs": []
    },
    {
      "cell_type": "code",
      "source": [
        "# Handle missing values\n",
        "df_spark = df_spark.na.drop(subset=[\"review_id\", \"product_id\", \"review_body\", \"star_rating\"])\n",
        "df_spark = df_spark.fillna({\"helpful_votes\": 0, \"total_votes\": 0})"
      ],
      "metadata": {
        "id": "iICKgCBsFKsa"
      },
      "execution_count": null,
      "outputs": []
    },
    {
      "cell_type": "code",
      "source": [
        "# Convert data types\n",
        "df_spark = df_spark.withColumn(\"star_rating\", col(\"star_rating\").cast(\"int\"))\n",
        "df_spark = df_spark.withColumn(\"review_date\", to_date(col(\"review_date\"), \"yyyy-MM-dd\"))"
      ],
      "metadata": {
        "id": "VIVX2ijGFMj7"
      },
      "execution_count": null,
      "outputs": []
    },
    {
      "cell_type": "code",
      "source": [
        "# Standardize fields\n",
        "df_spark = df_spark.withColumn(\"product_category\", lower(trim(col(\"product_category\"))))"
      ],
      "metadata": {
        "id": "EnfbwJssFP0X"
      },
      "execution_count": null,
      "outputs": []
    },
    {
      "cell_type": "code",
      "source": [
        "# Task 3: Data Transformation\n",
        "# Normalize text fields\n",
        "df_spark = df_spark.withColumn(\"review_body\", regexp_replace(lower(col(\"review_body\")), \"[^a-zA-Z0-9 ]\", \"\"))\n",
        "df_spark = df_spark.withColumn(\"review_headline\", regexp_replace(lower(col(\"review_headline\")), \"[^a-zA-Z0-9 ]\", \"\"))"
      ],
      "metadata": {
        "id": "1pIaA9H1FSXR"
      },
      "execution_count": null,
      "outputs": []
    },
    {
      "cell_type": "code",
      "source": [
        "df_spark.show(5)"
      ],
      "metadata": {
        "colab": {
          "base_uri": "https://localhost:8080/"
        },
        "id": "Wf9mpdsZFVQr",
        "outputId": "1ce1b63f-31bc-4c42-9962-baaef0210426",
        "collapsed": true
      },
      "execution_count": null,
      "outputs": [
        {
          "output_type": "stream",
          "name": "stdout",
          "text": [
            "+-----------+-----------+-----------+--------------+----------+--------------+--------------------+----------------+-----------+-------------+-----------+-----+-----------------+--------------------+--------------------+\n",
            "|review_date|marketplace|customer_id|     review_id|product_id|product_parent|       product_title|product_category|star_rating|helpful_votes|total_votes| vine|verified_purchase|     review_headline|         review_body|\n",
            "+-----------+-----------+-----------+--------------+----------+--------------+--------------------+----------------+-----------+-------------+-----------+-----+-----------------+--------------------+--------------------+\n",
            "| 1995-08-07|         US|   53096398| R61VUUBXYT6EL|042510107X|   3.4724671E7|    Red Storm Rising|           books|          5|            0|          1|false|            false|the single best m...|red storm rising ...|\n",
            "| 1995-09-29|         US|   53094816| RT94SPZ5CHLK6| 133627659|  3.20981057E8|Criminal Justice ...|           books|          5|            6|          7|false|            false|excellent intro t...|this book is used...|\n",
            "| 1995-06-24|         US|   53096571|R34N4QWDXX58WB| 870210092|        4.43E8|Arming and Fittin...|           books|          4|           12|         13|false|            false|good enough to un...|nice diags lucid ...|\n",
            "| 1995-08-09|         US|   53052813|R2VRNK6WSQQA5O| 881790338|  3.62312407E8|The Elements of T...|           books|          5|            0|          1|false|            false|      very good book|pleasent to view ...|\n",
            "| 1995-07-24|         US|   53096358|R12Q0WB95GUCTI| 394757688|  8.49452523E8|    The Long Goodbye|           books|          5|            0|          0|false|            false|this book is fabu...|this was the firs...|\n",
            "+-----------+-----------+-----------+--------------+----------+--------------+--------------------+----------------+-----------+-------------+-----------+-----+-----------------+--------------------+--------------------+\n",
            "only showing top 5 rows\n",
            "\n"
          ]
        }
      ]
    },
    {
      "cell_type": "code",
      "source": [
        "# Extract additional features\n",
        "df_spark = df_spark.withColumn(\"review_month\", month(col(\"review_date\")))"
      ],
      "metadata": {
        "id": "ZlxstLazFXb-"
      },
      "execution_count": null,
      "outputs": []
    },
    {
      "cell_type": "code",
      "source": [
        "# Show cleaned and transformed data\n",
        "df_spark.show(5)"
      ],
      "metadata": {
        "colab": {
          "base_uri": "https://localhost:8080/"
        },
        "id": "H6beh58aFbvV",
        "outputId": "b8110ec1-391d-4920-e78d-02ce639367b5",
        "collapsed": true
      },
      "execution_count": null,
      "outputs": [
        {
          "output_type": "stream",
          "name": "stdout",
          "text": [
            "+-----------+-----------+-----------+--------------+----------+--------------+--------------------+----------------+-----------+-------------+-----------+-----+-----------------+--------------------+--------------------+------------+\n",
            "|review_date|marketplace|customer_id|     review_id|product_id|product_parent|       product_title|product_category|star_rating|helpful_votes|total_votes| vine|verified_purchase|     review_headline|         review_body|review_month|\n",
            "+-----------+-----------+-----------+--------------+----------+--------------+--------------------+----------------+-----------+-------------+-----------+-----+-----------------+--------------------+--------------------+------------+\n",
            "| 1995-08-07|         US|   53096398| R61VUUBXYT6EL|042510107X|   3.4724671E7|    Red Storm Rising|           books|          5|            0|          1|false|            false|the single best m...|red storm rising ...|           8|\n",
            "| 1995-09-29|         US|   53094816| RT94SPZ5CHLK6| 133627659|  3.20981057E8|Criminal Justice ...|           books|          5|            6|          7|false|            false|excellent intro t...|this book is used...|           9|\n",
            "| 1995-06-24|         US|   53096571|R34N4QWDXX58WB| 870210092|        4.43E8|Arming and Fittin...|           books|          4|           12|         13|false|            false|good enough to un...|nice diags lucid ...|           6|\n",
            "| 1995-08-09|         US|   53052813|R2VRNK6WSQQA5O| 881790338|  3.62312407E8|The Elements of T...|           books|          5|            0|          1|false|            false|      very good book|pleasent to view ...|           8|\n",
            "| 1995-07-24|         US|   53096358|R12Q0WB95GUCTI| 394757688|  8.49452523E8|    The Long Goodbye|           books|          5|            0|          0|false|            false|this book is fabu...|this was the firs...|           7|\n",
            "+-----------+-----------+-----------+--------------+----------+--------------+--------------------+----------------+-----------+-------------+-----------+-----+-----------------+--------------------+--------------------+------------+\n",
            "only showing top 5 rows\n",
            "\n"
          ]
        }
      ]
    },
    {
      "cell_type": "code",
      "source": [
        "!pip install pymysql"
      ],
      "metadata": {
        "colab": {
          "base_uri": "https://localhost:8080/"
        },
        "id": "nLwpDMqhpZeP",
        "outputId": "ff76c7a5-8b25-4714-f2f6-8ca775adc3b1",
        "collapsed": true
      },
      "execution_count": null,
      "outputs": [
        {
          "output_type": "stream",
          "name": "stdout",
          "text": [
            "Requirement already satisfied: pymysql in /usr/local/lib/python3.12/dist-packages (1.1.2)\n"
          ]
        }
      ]
    },
    {
      "cell_type": "code",
      "source": [
        "import pandas as pd\n",
        "from sqlalchemy import create_engine\n",
        "\n",
        "# Database connection details\n",
        "DB_HOST = \"database-1.cjqu44c44elv.eu-north-1.rds.amazonaws.com\"\n",
        "DB_PORT = \"3306\"\n",
        "DB_USER = \"DineshAlagesan\"\n",
        "DB_PASS = \"Dinesh281602\"\n",
        "DB_NAME = \"amazon_reviews\"\n",
        "\n",
        "# Create connection to MySQL or PostgreSQL\n",
        "engine = create_engine(f\"mysql+pymysql://{DB_USER}:{DB_PASS}@{DB_HOST}:{DB_PORT}/{DB_NAME}\")\n",
        "\n",
        "# Load cleaned data\n",
        "df.to_sql(name=\"reviews\", con=engine, if_exists=\"replace\", index=False)\n",
        "\n",
        "print(\"✅ Data successfully loaded into AWS RDS!\")"
      ],
      "metadata": {
        "id": "cCeoY1J1FfM9",
        "colab": {
          "base_uri": "https://localhost:8080/"
        },
        "outputId": "5e384026-3e34-4860-d6cc-3c79ee42ddfd",
        "collapsed": true
      },
      "execution_count": null,
      "outputs": [
        {
          "output_type": "stream",
          "name": "stdout",
          "text": [
            "✅ Data successfully loaded into AWS RDS!\n"
          ]
        }
      ]
    },
    {
      "cell_type": "code",
      "source": [
        "!pip install mysql-connector-python"
      ],
      "metadata": {
        "id": "cMilYkEe2vHX",
        "colab": {
          "base_uri": "https://localhost:8080/"
        },
        "outputId": "a7a47197-65cf-42ea-b499-18c1f16ebbcd",
        "collapsed": true
      },
      "execution_count": null,
      "outputs": [
        {
          "output_type": "stream",
          "name": "stdout",
          "text": [
            "Requirement already satisfied: mysql-connector-python in /usr/local/lib/python3.12/dist-packages (9.4.0)\n"
          ]
        }
      ]
    },
    {
      "cell_type": "code",
      "source": [
        "import pandas as pd\n",
        "import mysql.connector\n",
        "\n",
        "# Google Sheets CSV link\n",
        "sheet_url = \"https://docs.google.com/spreadsheets/d/1B2fF-9GKOk3HBb6I40kNnfbaNOaTeDJjhht-iDSz9r0/export?format=csv\"\n",
        "\n",
        "# Read dataset\n",
        "df = pd.read_csv(sheet_url)\n",
        "\n",
        "# MySQL database connection details\n",
        "DB_HOST = \"database-1.cjqu44c44elv.eu-north-1.rds.amazonaws.com\"\n",
        "DB_USER = \"DineshAlagesan\"\n",
        "DB_PASS = \"Dinesh281602\"\n",
        "DB_NAME = \"amazon_reviews\"\n",
        "\n",
        "# Connect to MySQL\n",
        "conn = mysql.connector.connect(\n",
        "    host=DB_HOST,\n",
        "    user=DB_USER,\n",
        "    password=DB_PASS,\n",
        "    database=DB_NAME\n",
        ")\n",
        "\n",
        "cursor = conn.cursor()\n",
        "\n",
        "# Create table if not exists\n",
        "cursor.execute(\"\"\"\n",
        "CREATE TABLE IF NOT EXISTS reviews (\n",
        "    id INT AUTO_INCREMENT PRIMARY KEY,\n",
        "    product_title TEXT,\n",
        "    star_rating INT,\n",
        "    review_date DATE,\n",
        "    review_body TEXT\n",
        ");\n",
        "\"\"\")\n",
        "\n",
        "# Insert data into MySQL\n",
        "for _, row in df.iterrows():\n",
        "    cursor.execute(\"\"\"\n",
        "        INSERT INTO reviews (product_title, star_rating, review_date, review_body)\n",
        "        VALUES (%s, %s, %s, %s)\n",
        "    \"\"\", (row[\"product_title\"], row[\"star_rating\"], row[\"review_date\"], row[\"review_body\"]))\n",
        "\n",
        "conn.commit()\n",
        "cursor.close()\n",
        "conn.close()\n",
        "\n",
        "print(\"✅ Data loaded successfully into AWS RDS!\")\n"
      ],
      "metadata": {
        "colab": {
          "base_uri": "https://localhost:8080/"
        },
        "id": "LQfGc8acrlmd",
        "outputId": "3f4b91cc-e256-4882-af27-9797738a4a82",
        "collapsed": true
      },
      "execution_count": null,
      "outputs": [
        {
          "output_type": "stream",
          "name": "stdout",
          "text": [
            "✅ Data loaded successfully into AWS RDS!\n"
          ]
        }
      ]
    },
    {
      "cell_type": "code",
      "source": [
        "!pip install pymysql sqlalchemy pandas"
      ],
      "metadata": {
        "colab": {
          "base_uri": "https://localhost:8080/"
        },
        "id": "AQGkEOgvsY_j",
        "outputId": "c7b92cc1-bd44-446b-c99e-b7e94a2f3f50",
        "collapsed": true
      },
      "execution_count": null,
      "outputs": [
        {
          "output_type": "stream",
          "name": "stdout",
          "text": [
            "Requirement already satisfied: pymysql in /usr/local/lib/python3.12/dist-packages (1.1.2)\n",
            "Requirement already satisfied: sqlalchemy in /usr/local/lib/python3.12/dist-packages (2.0.43)\n",
            "Requirement already satisfied: pandas in /usr/local/lib/python3.12/dist-packages (2.2.2)\n",
            "Requirement already satisfied: greenlet>=1 in /usr/local/lib/python3.12/dist-packages (from sqlalchemy) (3.2.4)\n",
            "Requirement already satisfied: typing-extensions>=4.6.0 in /usr/local/lib/python3.12/dist-packages (from sqlalchemy) (4.15.0)\n",
            "Requirement already satisfied: numpy>=1.26.0 in /usr/local/lib/python3.12/dist-packages (from pandas) (2.0.2)\n",
            "Requirement already satisfied: python-dateutil>=2.8.2 in /usr/local/lib/python3.12/dist-packages (from pandas) (2.9.0.post0)\n",
            "Requirement already satisfied: pytz>=2020.1 in /usr/local/lib/python3.12/dist-packages (from pandas) (2025.2)\n",
            "Requirement already satisfied: tzdata>=2022.7 in /usr/local/lib/python3.12/dist-packages (from pandas) (2025.2)\n",
            "Requirement already satisfied: six>=1.5 in /usr/local/lib/python3.12/dist-packages (from python-dateutil>=2.8.2->pandas) (1.17.0)\n"
          ]
        }
      ]
    },
    {
      "cell_type": "code",
      "source": [
        "import pandas as pd\n",
        "from sqlalchemy import create_engine\n",
        "\n",
        "# ✅ Database connection details (Replace with actual credentials)\n",
        "DB_USER = \"DineshAlagesan\"\n",
        "DB_PASS = \"Dinesh281602\"\n",
        "DB_HOST = \"database-1.cjqu44c44elv.eu-north-1.rds.amazonaws.com\"\n",
        "DB_PORT = \"3306\"\n",
        "DB_NAME = \"amazon_reviews\"\n",
        "\n",
        "# ✅ Create MySQL connection\n",
        "engine = create_engine(f\"mysql+pymysql://{DB_USER}:{DB_PASS}@{DB_HOST}:{DB_PORT}/{DB_NAME}\")\n",
        "\n",
        "# Define Queries\n",
        "queries = {\n",
        "    \"Top 10 Products with Most Reviews\": \"\"\"\n",
        "        SELECT product_title, COUNT(*) AS review_count\n",
        "        FROM reviews\n",
        "        GROUP BY product_title\n",
        "        ORDER BY review_count DESC\n",
        "        LIMIT 10;\n",
        "    \"\"\",\n",
        "    \"Average Review Ratings Per Month\": \"\"\"\n",
        "        SELECT product_title, DATE_FORMAT(review_date, '%%Y-%%m') AS review_month,\n",
        "               AVG(star_rating) AS avg_rating\n",
        "        FROM reviews\n",
        "        GROUP BY product_title, review_month\n",
        "        ORDER BY review_month DESC;\n",
        "    \"\"\",\n",
        "    \"Total Votes Per Product Category\": \"\"\"\n",
        "        SELECT product_category, SUM(total_votes) AS total_votes\n",
        "        FROM reviews\n",
        "        GROUP BY product_category\n",
        "        ORDER BY total_votes DESC;\n",
        "    \"\"\",\n",
        "    \"Products with 'Awful' in Reviews\": \"\"\"\n",
        "        SELECT product_title, COUNT(*) AS awful_count\n",
        "        FROM reviews\n",
        "        WHERE LOWER(review_body) LIKE '%%awful%%'\n",
        "           OR LOWER(review_body) LIKE '%%terrible%%'\n",
        "           OR LOWER(review_body) LIKE '%%bad%%'\n",
        "           OR LOWER(review_body) LIKE '%%horrible%%'\n",
        "        GROUP BY product_title\n",
        "        ORDER BY awful_count DESC\n",
        "        LIMIT 10;\n",
        "    \"\"\",\n",
        "    \"Products with 'Awesome' in Reviews\": \"\"\"\n",
        "        SELECT product_title, COUNT(*) AS awesome_count\n",
        "        FROM reviews\n",
        "        WHERE LOWER(review_body) LIKE '%%awesome%%'\n",
        "           OR LOWER(review_body) LIKE '%%fantastic%%'\n",
        "           OR LOWER(review_body) LIKE '%%excellent%%'\n",
        "           OR LOWER(review_body) LIKE '%%great%%'\n",
        "        GROUP BY product_title\n",
        "        ORDER BY awesome_count DESC\n",
        "        LIMIT 10;\n",
        "    \"\"\",\n",
        "    \"Most Controversial Reviews\": \"\"\"\n",
        "        SELECT review_id, product_title, total_votes, helpful_votes,\n",
        "               IFNULL((helpful_votes / NULLIF(total_votes, 0)) * 100, 0) AS helpful_percentage\n",
        "        FROM reviews\n",
        "        WHERE total_votes >= 20  -- Reduced threshold from 50 to 20\n",
        "        ORDER BY helpful_percentage ASC  -- Sort by least helpful first\n",
        "        LIMIT 10;\n",
        "    \"\"\",\n",
        "    \"Most Reviewed Product Per Year\": \"\"\"\n",
        "        SELECT YEAR(review_date) AS review_year, product_title, COUNT(*) AS review_count\n",
        "        FROM reviews\n",
        "        GROUP BY review_year, product_title\n",
        "        ORDER BY review_year DESC, review_count DESC;\n",
        "    \"\"\",\n",
        "    \"Users Who Wrote the Most Reviews\": \"\"\"\n",
        "        SELECT COALESCE(CAST(customer_id AS CHAR), 'Unknown') AS customer_id, COUNT(*) AS review_count\n",
        "        FROM reviews\n",
        "        GROUP BY customer_id\n",
        "        ORDER BY review_count DESC\n",
        "        LIMIT 10;\n",
        "    \"\"\"\n",
        "}\n",
        "\n",
        "# ✅ Run Queries and Display Results\n",
        "for name, query in queries.items():\n",
        "    try:\n",
        "        df = pd.read_sql(query, engine)\n",
        "        print(f\"\\n🔹 {name}\")\n",
        "        if df.empty:\n",
        "            print(\"⚠ No results found.\")\n",
        "        else:\n",
        "            print(df)\n",
        "    except Exception as e:\n",
        "        print(f\"❌ Error in {name}: {e}\")"
      ],
      "metadata": {
        "colab": {
          "base_uri": "https://localhost:8080/"
        },
        "id": "6sMYtplTs4sI",
        "outputId": "e862aeaa-de17-4bb0-c2bd-03c92a9378af",
        "collapsed": true
      },
      "execution_count": null,
      "outputs": [
        {
          "output_type": "stream",
          "name": "stdout",
          "text": [
            "\n",
            "🔹 Top 10 Products with Most Reviews\n",
            "                                       product_title  review_count\n",
            "0   Ufo Retrievals: The Recovery of Alien Spacecraft             4\n",
            "1              Blue Highways: A Journey into America             2\n",
            "2  Monsters Of The Sea: The History, Natural Hist...             2\n",
            "3             Essential Client Server Survival Guide             2\n",
            "4        The Hikers Guide to O'Ahu (A Kolowalu Book)             2\n",
            "5                               Palimpsest: A Memoir             2\n",
            "6                                      The Gun Ketch             2\n",
            "7                            To Live and Die in L.A.             2\n",
            "8                              The Big Book of Death             2\n",
            "9               The Celestine Prophecy: An Adventure             2\n",
            "\n",
            "🔹 Average Review Ratings Per Month\n",
            "                                         product_title review_month  \\\n",
            "0           The Roaches Have No King (High Risk Books)      1995-11   \n",
            "1                                      The Doors [VHS]      1995-11   \n",
            "2          Pulp Fiction: Music From The Motion Picture      1995-11   \n",
            "3                      The Complete Book of Golf Games      1995-11   \n",
            "4          The Turing Option (Questar Science Fiction)      1995-11   \n",
            "..                                                 ...          ...   \n",
            "145               Robert Louis Stevenson:: A Biography      1995-07   \n",
            "146                              The Empire of Fashion      1995-07   \n",
            "147                                 Sisters and Lovers      1995-07   \n",
            "148  Invention and Evolution:Design in Nature and E...      1995-06   \n",
            "149  Arming and Fitting of English Ships of War, 16...      1995-06   \n",
            "\n",
            "     avg_rating  \n",
            "0           4.0  \n",
            "1           5.0  \n",
            "2           5.0  \n",
            "3           5.0  \n",
            "4           5.0  \n",
            "..          ...  \n",
            "145         5.0  \n",
            "146         5.0  \n",
            "147         5.0  \n",
            "148         5.0  \n",
            "149         4.0  \n",
            "\n",
            "[150 rows x 3 columns]\n",
            "\n",
            "🔹 Total Votes Per Product Category\n",
            "  product_category  total_votes\n",
            "0            Books        899.0\n",
            "1            Video          2.0\n",
            "2            Music          1.0\n",
            "3             None          NaN\n",
            "\n",
            "🔹 Products with 'Awful' in Reviews\n",
            "                                       product_title  awful_count\n",
            "0  Bitter Winds: A Memoir of My Years in China's ...            2\n",
            "1                         Vamps & Tramps: New Essays            2\n",
            "2                                          Last Call            2\n",
            "3                           The Stress of Her Regard            2\n",
            "4  Amber Diceless Role-Playing: Diceless Role-Pla...            2\n",
            "5                           Lord Kalvan of Otherwhen            2\n",
            "6                                 Hero and the Crown            2\n",
            "\n",
            "🔹 Products with 'Awesome' in Reviews\n",
            "                                       product_title  awesome_count\n",
            "0   Ufo Retrievals: The Recovery of Alien Spacecraft              4\n",
            "1             Essential Client Server Survival Guide              2\n",
            "2       Pulp Fiction: A Quentin Tarantino Screenplay              2\n",
            "3       The Battle of the Wilderness, May 5--6, 1864              2\n",
            "4  The Big Book of Urban Legends: 200 True Storie...              2\n",
            "5                              The Big Book of Death              2\n",
            "6        The Hikers Guide to O'Ahu (A Kolowalu Book)              2\n",
            "7       The Big Book of Conspiracies (Factoid Books)              2\n",
            "8              Blue Highways: A Journey into America              2\n",
            "9  Monsters Of The Sea: The History, Natural Hist...              2\n",
            "\n",
            "🔹 Most Controversial Reviews\n",
            "        review_id                                      product_title  \\\n",
            "0  R3RRC9ZELZT51B                                 Hero and the Crown   \n",
            "1   RX0RNCQ5XX279  Reading the Old Testament: Method in Biblical ...   \n",
            "2  R2YS7NYUYEWWN0                                     Grey Eminence.   \n",
            "3   RWKK7AZ9DTIW4  The Big Book of Urban Legends: 200 True Storie...   \n",
            "4  R2QYF10JPWP7BN        Ordinary Differential Equations (MIT Press)   \n",
            "5   R2OD2TECAR3RM                     Riprap and Cold Mountain Poems   \n",
            "6  R1DZ6KX3SWKFK2                    Build Your Own Electric Vehicle   \n",
            "7  R3IJ91HHIWFF81                                   These Old Shades   \n",
            "8  R33HOJ2OWJIDQI  The Collector's Guide to Harker Pottery U.S.A....   \n",
            "9  R117GB0UNIVGV9  The Official Harvard Student Agencies Bartendi...   \n",
            "\n",
            "   total_votes  helpful_votes  helpful_percentage  \n",
            "0           33             13             39.3939  \n",
            "1           22             18             81.8182  \n",
            "2           29             26             89.6552  \n",
            "3           20             18             90.0000  \n",
            "4           35             32             91.4286  \n",
            "5           20             19             95.0000  \n",
            "6           47             45             95.7447  \n",
            "7           25             24             96.0000  \n",
            "8           27             27            100.0000  \n",
            "9           33             33            100.0000  \n",
            "\n",
            "🔹 Most Reviewed Product Per Year\n",
            "     review_year                                      product_title  \\\n",
            "0           1995   Ufo Retrievals: The Recovery of Alien Spacecraft   \n",
            "1           1995  Invention and Evolution:Design in Nature and E...   \n",
            "2           1995  Arming and Fitting of English Ships of War, 16...   \n",
            "3           1995                       Object-Oriented Type Systems   \n",
            "4           1995  The Collector's Guide to Harker Pottery U.S.A....   \n",
            "..           ...                                                ...   \n",
            "145         1995                             The Face of the Waters   \n",
            "146         1995                                 Hero and the Crown   \n",
            "147         1995                                   These Old Shades   \n",
            "148         1995  The Five Books of Moses: The Schocken Bible: V...   \n",
            "149         1995                      En Route to Global Occupation   \n",
            "\n",
            "     review_count  \n",
            "0               4  \n",
            "1               2  \n",
            "2               2  \n",
            "3               2  \n",
            "4               2  \n",
            "..            ...  \n",
            "145             2  \n",
            "146             2  \n",
            "147             2  \n",
            "148             2  \n",
            "149             2  \n",
            "\n",
            "[150 rows x 3 columns]\n",
            "\n",
            "🔹 Users Who Wrote the Most Reviews\n",
            "  customer_id  review_count\n",
            "0     Unknown           151\n",
            "1    53096008             8\n",
            "2    52948753             6\n",
            "3    53004137             3\n",
            "4    53096149             3\n",
            "5    53096582             3\n",
            "6    53096282             2\n",
            "7    53096585             2\n",
            "8    53084640             2\n",
            "9    53095838             2\n"
          ]
        }
      ]
    },
    {
      "cell_type": "code",
      "source": [
        "from sqlalchemy import create_engine, text\n",
        "import pymysql\n",
        "\n",
        "# Database credentials\n",
        "DB_HOST = \"database-1.cjqu44c44elv.eu-north-1.rds.amazonaws.com\"\n",
        "DB_USER = \"DineshAlagesan\"\n",
        "DB_PASSWORD = \"Dinesh281602\"\n",
        "DB_NAME = \"amazon_reviews\"\n",
        "\n",
        "# Create database connection\n",
        "engine = create_engine(f\"mysql+pymysql://{DB_USER}:{DB_PASSWORD}@{DB_HOST}/{DB_NAME}\")\n",
        "connection = engine.connect()\n",
        "\n",
        "# Ensure 'review_date' is a DATE column\n",
        "alter_column_query = \"\"\"\n",
        "ALTER TABLE reviews\n",
        "MODIFY COLUMN review_date DATE;\n",
        "\"\"\"\n",
        "try:\n",
        "    connection.execute(text(alter_column_query))\n",
        "    print(\"✅ Column 'review_date' converted to DATE type successfully.\")\n",
        "except Exception as e:\n",
        "    print(f\"⚠ Error modifying column: {e}\")\n",
        "\n",
        "# Index creation with existence check\n",
        "index_queries = [\n",
        "    (\"idx_product_title\", \"product_title(255)\"),\n",
        "    (\"idx_review_date\", \"review_date\")\n",
        "]\n",
        "\n",
        "for index_name, column in index_queries:\n",
        "    # Check if index already exists\n",
        "    check_index_query = f\"\"\"\n",
        "    SELECT COUNT(1)\n",
        "    FROM information_schema.statistics\n",
        "    WHERE table_schema = DATABASE()\n",
        "      AND table_name = 'reviews'\n",
        "      AND index_name = '{index_name}';\n",
        "    \"\"\"\n",
        "    index_exists = connection.execute(text(check_index_query)).scalar()\n",
        "\n",
        "    if index_exists:\n",
        "        print(f\"ℹ Index '{index_name}' already exists. Skipping creation.\")\n",
        "    else:\n",
        "        create_query = f\"CREATE INDEX {index_name} ON reviews ({column});\"\n",
        "        try:\n",
        "            connection.execute(text(create_query))\n",
        "            print(f\"✅ Index '{index_name}' created successfully.\")\n",
        "        except Exception as e:\n",
        "            print(f\"⚠ Error creating index '{index_name}': {e}\")\n",
        "\n",
        "# Check if table is already partitioned\n",
        "check_partition_query = \"\"\"\n",
        "SELECT COUNT(*)\n",
        "FROM information_schema.partitions\n",
        "WHERE table_schema = DATABASE() AND table_name = 'reviews';\n",
        "\"\"\"\n",
        "partition_count = connection.execute(text(check_partition_query)).scalar()\n",
        "\n",
        "if partition_count > 1:  # Already partitioned\n",
        "    print(\"✅ Table 'reviews' is already partitioned. Skipping partitioning.\")\n",
        "else:\n",
        "    partition_query = \"\"\"\n",
        "    ALTER TABLE reviews\n",
        "    PARTITION BY RANGE( YEAR(review_date) ) (\n",
        "        PARTITION p_before_2000 VALUES LESS THAN (2000),\n",
        "        PARTITION p_2000_2010 VALUES LESS THAN (2010),\n",
        "        PARTITION p_2010_2020 VALUES LESS THAN (2020),\n",
        "        PARTITION p_2020_present VALUES LESS THAN MAXVALUE\n",
        "    );\n",
        "    \"\"\"\n",
        "    try:\n",
        "        connection.execute(text(partition_query))\n",
        "        print(\"✅ Partitioning applied successfully.\")\n",
        "    except Exception as e:\n",
        "        print(f\"⚠ Error applying partitioning: {e}\")\n",
        "\n",
        "# Close connection\n",
        "connection.close()\n",
        "print(\"✅ Index creation and partitioning process completed.\")\n"
      ],
      "metadata": {
        "colab": {
          "base_uri": "https://localhost:8080/"
        },
        "id": "-jV8KZpftdDv",
        "outputId": "e09e8cfb-eaee-4a6f-bad1-712f87951906",
        "collapsed": true
      },
      "execution_count": null,
      "outputs": [
        {
          "output_type": "stream",
          "name": "stdout",
          "text": [
            "✅ Column 'review_date' converted to DATE type successfully.\n",
            "✅ Index 'idx_product_title' created successfully.\n",
            "✅ Index 'idx_review_date' created successfully.\n",
            "✅ Partitioning applied successfully.\n",
            "✅ Index creation and partitioning process completed.\n"
          ]
        }
      ]
    }
  ]
}